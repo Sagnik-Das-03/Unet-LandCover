{
 "cells": [
  {
   "cell_type": "code",
   "execution_count": null,
   "id": "42763174-3523-4d14-bbe5-0b0106c17540",
   "metadata": {
    "scrolled": true
   },
   "outputs": [],
   "source": [
    "import splitfolders\n",
    "\n",
    "# Define the source directory containing your dataset.\n",
    "source_dir = '../data/patches_256_useful'  # Adjust this to your dataset's source directory\n",
    "\n",
    "# Define the output directory for the four equal batches.\n",
    "output_dir = '../data/data_batches'  # Adjust this to your desired output directory\n",
    "\n",
    "# Split the dataset into four equal parts without changing the folder structure.\n",
    "splitfolders.ratio(source_dir, output=output_dir, seed=42, ratio=(0.25, 0.25, 0.25, 0.25))\n"
   ]
  },
  {
   "cell_type": "code",
   "execution_count": 3,
   "id": "85ee224d-5ce3-4ea9-a23a-e79f42b3134b",
   "metadata": {},
   "outputs": [],
   "source": [
    "import os\n",
    "import shutil\n",
    "\n",
    "# Define the source directory containing your dataset.\n",
    "source_dir = '../LargeImages/'  # Adjust this to your dataset's source directory\n",
    "\n",
    "# Define the output directory for the multiple equal batches.\n",
    "output_dir = '../LargeImagesBatched/'  # Adjust this to your desired output directory\n",
    "# output_dir = os.path.join('..', 'LargeImages', 'BatchedData')  # Using os.path.join\n",
    "\n",
    "# Define the number of splits and custom prefixes.\n",
    "num_splits = 8\n",
    "\n",
    "# Create the output directories for each split.\n",
    "for i in range(num_splits):\n",
    "    split_prefix = f'batch_{i + 1}'\n",
    "    os.makedirs(os.path.join(output_dir, split_prefix), exist_ok=True)\n",
    "\n",
    "# List all subdirectories in the source directory.\n",
    "subdirectories = [d for d in os.listdir(source_dir) if os.path.isdir(os.path.join(source_dir, d))]\n",
    "\n",
    "# Split each subdirectory into multiple parts.\n",
    "for subdir in subdirectories:\n",
    "    sub_dir_path = os.path.join(source_dir, subdir)\n",
    "    image_files = os.listdir(sub_dir_path)\n",
    "\n",
    "    # Distribute the images into the splits.\n",
    "    for i, file in enumerate(image_files):\n",
    "        split_prefix = f'batch_{i % num_splits + 1}'\n",
    "        src = os.path.join(sub_dir_path, file)\n",
    "        dst = os.path.join(output_dir, split_prefix, subdir, file)\n",
    "        os.makedirs(os.path.dirname(dst), exist_ok=True)\n",
    "        shutil.copy(src, dst)\n"
   ]
  },
  {
   "cell_type": "code",
   "execution_count": null,
   "id": "8da84a12-f928-4453-bdb7-d5b6dca87f8d",
   "metadata": {},
   "outputs": [],
   "source": []
  }
 ],
 "metadata": {
  "kernelspec": {
   "display_name": "Python 3 (ipykernel)",
   "language": "python",
   "name": "python3"
  },
  "language_info": {
   "codemirror_mode": {
    "name": "ipython",
    "version": 3
   },
   "file_extension": ".py",
   "mimetype": "text/x-python",
   "name": "python",
   "nbconvert_exporter": "python",
   "pygments_lexer": "ipython3",
   "version": "3.9.10"
  },
  "widgets": {
   "application/vnd.jupyter.widget-state+json": {
    "state": {},
    "version_major": 2,
    "version_minor": 0
   }
  }
 },
 "nbformat": 4,
 "nbformat_minor": 5
}
