{
 "cells": [
  {
   "cell_type": "code",
   "execution_count": 1,
   "id": "fb092b37-6678-422a-8c70-881127f4d868",
   "metadata": {},
   "outputs": [
    {
     "name": "stdout",
     "output_type": "stream",
     "text": [
      "Renaming and moving completed.\n"
     ]
    }
   ],
   "source": [
    "import os\n",
    "import glob\n",
    "import tifffile as tiff\n",
    "import shutil\n",
    "\n",
    "# Set the directory paths for images and masks\n",
    "image_directory = \"../LargeImages/images/\"\n",
    "mask_directory = \"../LargeImages/masks/\"\n",
    "common_output_directory = \"../LargeImages/renamed_data/\"\n",
    "\n",
    "# Create output directories for images and masks within the common directory\n",
    "output_image_directory = os.path.join(common_output_directory, \"images\")\n",
    "output_mask_directory = os.path.join(common_output_directory, \"masks\")\n",
    "os.makedirs(output_image_directory, exist_ok=True)\n",
    "os.makedirs(output_mask_directory, exist_ok=True)\n",
    "\n",
    "# List all image file paths in the image directory\n",
    "image_paths = sorted(glob.glob(os.path.join(image_directory, \"*.tif\")))\n",
    "\n",
    "# List all mask file paths in the mask directory\n",
    "mask_paths = sorted(glob.glob(os.path.join(mask_directory, \"*.tif\")))\n",
    "\n",
    "# Define the common name for the renamed files\n",
    "new_name = \"image\"\n",
    "\n",
    "# Ensure the number of images and masks is the same\n",
    "if len(image_paths) != len(mask_paths):\n",
    "    print(\"Error: Number of images and masks do not match.\")\n",
    "else:\n",
    "    # Loop through image files and masks, renaming and moving them to the output directories\n",
    "    for i in range(len(image_paths)):\n",
    "        new_img_name = f\"{new_name}_{i}.tif\"\n",
    "        new_mask_name = f\"{new_name}_{i}.tif\"\n",
    "        \n",
    "        new_img_path = os.path.join(output_image_directory, new_img_name)\n",
    "        new_mask_path = os.path.join(output_mask_directory, new_mask_name)\n",
    "        \n",
    "        # Use tifffile to copy and rename the files\n",
    "        tiff.imwrite(new_img_path, tiff.imread(image_paths[i]))\n",
    "        tiff.imwrite(new_mask_path, tiff.imread(mask_paths[i]))\n",
    "        \n",
    "    print(\"Renaming and moving completed.\")\n"
   ]
  },
  {
   "cell_type": "code",
   "execution_count": null,
   "id": "15074622-6ab7-47d8-a15d-afc8527df71a",
   "metadata": {},
   "outputs": [],
   "source": []
  }
 ],
 "metadata": {
  "kernelspec": {
   "display_name": "Python 3 (ipykernel)",
   "language": "python",
   "name": "python3"
  },
  "language_info": {
   "codemirror_mode": {
    "name": "ipython",
    "version": 3
   },
   "file_extension": ".py",
   "mimetype": "text/x-python",
   "name": "python",
   "nbconvert_exporter": "python",
   "pygments_lexer": "ipython3",
   "version": "3.9.10"
  },
  "widgets": {
   "application/vnd.jupyter.widget-state+json": {
    "state": {},
    "version_major": 2,
    "version_minor": 0
   }
  }
 },
 "nbformat": 4,
 "nbformat_minor": 5
}
